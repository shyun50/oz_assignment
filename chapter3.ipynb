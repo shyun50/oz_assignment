{
  "nbformat": 4,
  "nbformat_minor": 0,
  "metadata": {
    "colab": {
      "provenance": [],
      "authorship_tag": "ABX9TyNTaRYvUNCNi3QkC7BecNTv",
      "include_colab_link": true
    },
    "kernelspec": {
      "name": "python3",
      "display_name": "Python 3"
    },
    "language_info": {
      "name": "python"
    }
  },
  "cells": [
    {
      "cell_type": "markdown",
      "metadata": {
        "id": "view-in-github",
        "colab_type": "text"
      },
      "source": [
        "<a href=\"https://colab.research.google.com/github/shyun50/oz_assignment/blob/main/chapter3.ipynb\" target=\"_parent\"><img src=\"https://colab.research.google.com/assets/colab-badge.svg\" alt=\"Open In Colab\"/></a>"
      ]
    },
    {
      "cell_type": "code",
      "execution_count": 6,
      "metadata": {
        "colab": {
          "base_uri": "https://localhost:8080/"
        },
        "id": "Oag4X6C71BhR",
        "outputId": "402283c3-36af-4f7b-edf0-027f78b14ff3"
      },
      "outputs": [
        {
          "output_type": "stream",
          "name": "stdout",
          "text": [
            "진짜 안보이는거야?\n"
          ]
        }
      ],
      "source": [
        "# 주석은 이렇게 하는거다\n",
        "print(\"진짜 안보이는거야?\")\n",
        "#print(\"신기하네?\")"
      ]
    },
    {
      "cell_type": "code",
      "source": [
        "#print(\"진짜 안보이는거야?\")\n",
        "#print(\"신기하네?\")"
      ],
      "metadata": {
        "id": "k7LwaE3y21xG"
      },
      "execution_count": 8,
      "outputs": []
    },
    {
      "cell_type": "code",
      "source": [],
      "metadata": {
        "id": "v7zQ_17g2qRZ"
      },
      "execution_count": null,
      "outputs": []
    }
  ]
}