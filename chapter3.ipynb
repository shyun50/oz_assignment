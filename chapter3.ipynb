{
  "nbformat": 4,
  "nbformat_minor": 0,
  "metadata": {
    "colab": {
      "provenance": [],
      "authorship_tag": "ABX9TyP14g0wwzfJy0wuhEsrpVBU",
      "include_colab_link": true
    },
    "kernelspec": {
      "name": "python3",
      "display_name": "Python 3"
    },
    "language_info": {
      "name": "python"
    }
  },
  "cells": [
    {
      "cell_type": "markdown",
      "metadata": {
        "id": "view-in-github",
        "colab_type": "text"
      },
      "source": [
        "<a href=\"https://colab.research.google.com/github/shyun50/oz_assignment/blob/main/chapter3.ipynb\" target=\"_parent\"><img src=\"https://colab.research.google.com/assets/colab-badge.svg\" alt=\"Open In Colab\"/></a>"
      ]
    },
    {
      "cell_type": "code",
      "execution_count": null,
      "metadata": {
        "colab": {
          "base_uri": "https://localhost:8080/"
        },
        "id": "Oag4X6C71BhR",
        "outputId": "402283c3-36af-4f7b-edf0-027f78b14ff3"
      },
      "outputs": [
        {
          "output_type": "stream",
          "name": "stdout",
          "text": [
            "진짜 안보이는거야?\n"
          ]
        }
      ],
      "source": [
        "# 주석은 이렇게 하는거다\n",
        "print(\"진짜 안보이는거야?\")\n",
        "#print(\"신기하네?\")"
      ]
    },
    {
      "cell_type": "code",
      "source": [
        "#print(\"진짜 안보이는거야?\")\n",
        "#print(\"신기하네?\")"
      ],
      "metadata": {
        "id": "k7LwaE3y21xG"
      },
      "execution_count": null,
      "outputs": []
    },
    {
      "cell_type": "code",
      "source": [
        "for 동물 in (\"토끼\",\"사자\",\"푸바오\",\"호랑이\"):\n",
        "    print(동물)\n",
        "    print(\"보러갈래요?\")"
      ],
      "metadata": {
        "id": "v7zQ_17g2qRZ",
        "colab": {
          "base_uri": "https://localhost:8080/"
        },
        "outputId": "80abfcd5-50af-4ee0-8277-8bd54a0ac0dd"
      },
      "execution_count": 1,
      "outputs": [
        {
          "output_type": "stream",
          "name": "stdout",
          "text": [
            "토끼\n",
            "보러갈래요?\n",
            "사자\n",
            "보러갈래요?\n",
            "푸바오\n",
            "보러갈래요?\n",
            "호랑이\n",
            "보러갈래요?\n"
          ]
        }
      ]
    },
    {
      "cell_type": "code",
      "source": [
        "for 동물 in (\"토끼\",\"사자\",\"푸바오\",\"호랑이\"):\n",
        "    print(동물)\n",
        "print(\"보러갈래요?\")"
      ],
      "metadata": {
        "colab": {
          "base_uri": "https://localhost:8080/"
        },
        "id": "GzgQNZMc6R8D",
        "outputId": "0c30a482-7efa-4ab9-e686-ff56e57c6ea7"
      },
      "execution_count": 4,
      "outputs": [
        {
          "output_type": "stream",
          "name": "stdout",
          "text": [
            "토끼\n",
            "사자\n",
            "푸바오\n",
            "호랑이\n",
            "보러갈래요?\n"
          ]
        }
      ]
    }
  ]
}