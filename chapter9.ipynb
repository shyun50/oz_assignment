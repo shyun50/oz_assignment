{
  "nbformat": 4,
  "nbformat_minor": 0,
  "metadata": {
    "colab": {
      "provenance": [],
      "authorship_tag": "ABX9TyP/AcIkcx2aUqPveir94QxM",
      "include_colab_link": true
    },
    "kernelspec": {
      "name": "python3",
      "display_name": "Python 3"
    },
    "language_info": {
      "name": "python"
    }
  },
  "cells": [
    {
      "cell_type": "markdown",
      "metadata": {
        "id": "view-in-github",
        "colab_type": "text"
      },
      "source": [
        "<a href=\"https://colab.research.google.com/github/shyun50/oz_assignment/blob/main/chapter9.ipynb\" target=\"_parent\"><img src=\"https://colab.research.google.com/assets/colab-badge.svg\" alt=\"Open In Colab\"/></a>"
      ]
    },
    {
      "cell_type": "markdown",
      "source": [
        "# 입력과 출력\n",
        "입력 : input()  \n",
        "출력 : print()\n",
        "\n",
        "# 함수와 메서드\n",
        "함수 : 함수는 어디에 속해있지 않고 단독 모듈이라 함수를 그냥 호출하여 사용이 가능합니다.  \n",
        "ex) print() , input()\n",
        "\n",
        "메소드 : 함수의 클래스 안에 속해있고 클래스의 멤버 변수들을 이용해서 구현된 것  \n",
        "ex) \"까먹으신 건가요?\" . count(\"까\")  \n",
        " \"까먹으신 건가요?\" . index(\"까\")"
      ],
      "metadata": {
        "id": "ihMdpcJbDEsL"
      }
    },
    {
      "cell_type": "code",
      "execution_count": null,
      "metadata": {
        "colab": {
          "base_uri": "https://localhost:8080/"
        },
        "id": "OasCgNSE9mVh",
        "outputId": "d404c0b4-1e71-4001-860e-b9453e5558f0"
      },
      "outputs": [
        {
          "output_type": "execute_result",
          "data": {
            "text/plain": [
              "0"
            ]
          },
          "metadata": {},
          "execution_count": 2
        }
      ],
      "source": [
        "\"까먹으신 건가요?\" . index(\"까\")\n"
      ]
    },
    {
      "cell_type": "code",
      "source": [
        "\"까먹으신 건가요?\" . count(\"까\")"
      ],
      "metadata": {
        "colab": {
          "base_uri": "https://localhost:8080/"
        },
        "id": "wlPiDUo6EdEz",
        "outputId": "21c6bd4d-8ed4-49e6-95f9-012f3a55682e"
      },
      "execution_count": null,
      "outputs": [
        {
          "output_type": "execute_result",
          "data": {
            "text/plain": [
              "1"
            ]
          },
          "metadata": {},
          "execution_count": 3
        }
      ]
    },
    {
      "cell_type": "code",
      "source": [
        " 숫자 , 문자 = 5 , \"5\"\n",
        " print(숫자 , 문자)"
      ],
      "metadata": {
        "colab": {
          "base_uri": "https://localhost:8080/"
        },
        "id": "TwYyR8q7eOaN",
        "outputId": "839f65ea-2e39-45d2-c3f2-eabb828ac514"
      },
      "execution_count": null,
      "outputs": [
        {
          "output_type": "stream",
          "name": "stdout",
          "text": [
            "5 5\n"
          ]
        }
      ]
    },
    {
      "cell_type": "code",
      "source": [
        "인사 = input()\n",
        "print(인사 + \"우앙신기해\")"
      ],
      "metadata": {
        "colab": {
          "base_uri": "https://localhost:8080/"
        },
        "id": "tefce6RBk28w",
        "outputId": "121c9a0f-a198-43d3-e2d0-3050b8f3a978"
      },
      "execution_count": null,
      "outputs": [
        {
          "output_type": "stream",
          "name": "stdout",
          "text": [
            "안녕뿌잉\n",
            "안녕뿌잉우앙신기해\n"
          ]
        }
      ]
    },
    {
      "cell_type": "code",
      "source": [
        "# int() , float() , str() , bool() - 형변환\n",
        "\n",
        "정수 = int(input())\n",
        "print(정수 , type(정수))\n",
        "실수 = float(input())\n",
        "print(실수 , type(실수))\n"
      ],
      "metadata": {
        "colab": {
          "base_uri": "https://localhost:8080/"
        },
        "id": "LwJkpD6Zwp17",
        "outputId": "2540ea51-db93-49ce-ef66-315f9959c652"
      },
      "execution_count": null,
      "outputs": [
        {
          "output_type": "stream",
          "name": "stdout",
          "text": [
            "5\n",
            "5 <class 'int'>\n",
            "5\n",
            "5.0 <class 'float'>\n"
          ]
        }
      ]
    },
    {
      "cell_type": "markdown",
      "source": [
        "그 외 입력값의 형변환이 가능한 종류  \n",
        "* tuple()\n",
        "* list()\n",
        "* dict()\n",
        "* set()"
      ],
      "metadata": {
        "id": "6v5eXlfFxZlu"
      }
    },
    {
      "cell_type": "code",
      "source": [
        "넌센스, 정답 = input().split()\n",
        "print(f'넌센스 퀴즈 : {넌센스}')\n",
        "print(f'정답 : {정답}')"
      ],
      "metadata": {
        "colab": {
          "base_uri": "https://localhost:8080/"
        },
        "id": "dgwazjbi8THK",
        "outputId": "772ca2f6-f3fa-4f9f-d3df-aeaa1bb835c5"
      },
      "execution_count": 6,
      "outputs": [
        {
          "output_type": "stream",
          "name": "stdout",
          "text": [
            "스페인에서에스파를만나면? 에스파냐\n",
            "넌센스 퀴즈 : 스페인에서에스파를만나면?\n",
            "정답 : 에스파냐\n"
          ]
        }
      ]
    },
    {
      "cell_type": "code",
      "source": [
        "넌센스, 정답 = input().split(\",\")\n",
        "print(f'넌센스 퀴즈 : {넌센스}')\n",
        "print(f'정답 : {정답}')"
      ],
      "metadata": {
        "colab": {
          "base_uri": "https://localhost:8080/"
        },
        "id": "zSs0L9SEG8zh",
        "outputId": "d0970756-4524-4ac6-e756-e5ee6c11b9e1"
      },
      "execution_count": 10,
      "outputs": [
        {
          "output_type": "stream",
          "name": "stdout",
          "text": [
            "세상에서 제일 쉬운 숫자는? , 십구만\n",
            "넌센스 퀴즈 : 세상에서 제일 쉬운 숫자는? \n",
            "정답 :  십구만\n"
          ]
        }
      ]
    },
    {
      "cell_type": "code",
      "source": [
        "# 시퀀스 자료형에 다 지원되는 매소드\n",
        "번호1, 번호2, 번호3, 번호4 = input().split(\",\")\n",
        "번호1 = int(번호1)\n",
        "번호2 = int(번호2)\n",
        "번호3 = int(번호3)\n",
        "번호4 = int(번호4)\n",
        "print(번호1, 번호2, 번호3, 번호4)"
      ],
      "metadata": {
        "colab": {
          "base_uri": "https://localhost:8080/"
        },
        "id": "hZwhmgHBJge_",
        "outputId": "e618d3f9-76d2-4c2f-e7b9-5b94fb05cae4"
      },
      "execution_count": 11,
      "outputs": [
        {
          "output_type": "stream",
          "name": "stdout",
          "text": [
            "1212, 2323, 3434, 4545\n",
            "1212 2323 3434 4545\n"
          ]
        }
      ]
    },
    {
      "cell_type": "code",
      "source": [
        "# map()\n",
        "번호1, 번호2, 번호3, 번호4 = map(int, input().split(\",\"))\n",
        "print(type(번호1), 번호2, 번호3, 번호4)\n"
      ],
      "metadata": {
        "colab": {
          "base_uri": "https://localhost:8080/"
        },
        "id": "sWhykgqSKOk8",
        "outputId": "7ac2ee53-f2d1-40e3-b341-f7c7b6f89bae"
      },
      "execution_count": 12,
      "outputs": [
        {
          "output_type": "stream",
          "name": "stdout",
          "text": [
            "1212,2323,3434,4545\n",
            "<class 'int'> 2323 3434 4545\n"
          ]
        }
      ]
    },
    {
      "cell_type": "code",
      "source": [
        "# 레거시 : 누군가 남겨두고 간 코드\n",
        "# 리팩토링 : 결과의 변경 없이 코드의 구조를 재조정하는 것입니다"
      ],
      "metadata": {
        "id": "iW7KljZlem90"
      },
      "execution_count": null,
      "outputs": []
    },
    {
      "cell_type": "code",
      "source": [
        "# print() 함수에 기능을 이용해보겠습니다.\n",
        "print(\"초코칩\", \"민트\", \"샷추가\", \"휘핑크림\")\n",
        "print(\"초코칩\", \"민트\", \"샷추가\", \"휘핑크림\", sep=\"/\")\n",
        "print(\"초코칩\", \"민트\", \"샷추가\", \"휘핑크림\", sep=\":\")\n",
        "print(\"초코칩\", \"민트\", \"샷추가\", \"휘핑크림\", sep=\"\\n\")"
      ],
      "metadata": {
        "colab": {
          "base_uri": "https://localhost:8080/"
        },
        "id": "Tb9Bh7C5CHTv",
        "outputId": "9fc7307d-e521-4fee-9d28-04eae15655bb"
      },
      "execution_count": 20,
      "outputs": [
        {
          "output_type": "stream",
          "name": "stdout",
          "text": [
            "초코칩 민트 샷추가 휘핑크림\n",
            "초코칩/민트/샷추가/휘핑크림\n",
            "초코칩:민트:샷추가:휘핑크림\n",
            "초코칩\n",
            "민트\n",
            "샷추가\n",
            "휘핑크림\n"
          ]
        }
      ]
    },
    {
      "cell_type": "code",
      "source": [
        "# end\n",
        "print(\"초코칩\", \"민트\", \"샷추가\", \"휘핑크림\" , end='           ')\n",
        "print(\"초코칩\", \"민트\", \"샷추가\", \"휘핑크림\", end='     ')"
      ],
      "metadata": {
        "colab": {
          "base_uri": "https://localhost:8080/"
        },
        "id": "EbDAXwFqJ6to",
        "outputId": "66c8b691-91ac-456c-f9e1-e5b3d28ea3c4"
      },
      "execution_count": 27,
      "outputs": [
        {
          "output_type": "stream",
          "name": "stdout",
          "text": [
            "초코칩 민트 샷추가 휘핑크림           초코칩 민트 샷추가 휘핑크림     "
          ]
        }
      ]
    }
  ]
}