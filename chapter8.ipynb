{
  "nbformat": 4,
  "nbformat_minor": 0,
  "metadata": {
    "colab": {
      "provenance": [],
      "authorship_tag": "ABX9TyOPJLugn4vYfZukRBGnkXRY",
      "include_colab_link": true
    },
    "kernelspec": {
      "name": "python3",
      "display_name": "Python 3"
    },
    "language_info": {
      "name": "python"
    }
  },
  "cells": [
    {
      "cell_type": "markdown",
      "metadata": {
        "id": "view-in-github",
        "colab_type": "text"
      },
      "source": [
        "<a href=\"https://colab.research.google.com/github/shyun50/oz_assignment/blob/main/chapter8.ipynb\" target=\"_parent\"><img src=\"https://colab.research.google.com/assets/colab-badge.svg\" alt=\"Open In Colab\"/></a>"
      ]
    },
    {
      "cell_type": "code",
      "execution_count": null,
      "metadata": {
        "colab": {
          "base_uri": "https://localhost:8080/"
        },
        "id": "bBmtiO1go-tq",
        "outputId": "142f6769-78e9-465e-f060-2910e27b91d5"
      },
      "outputs": [
        {
          "output_type": "execute_result",
          "data": {
            "text/plain": [
              "True"
            ]
          },
          "metadata": {},
          "execution_count": 6
        }
      ],
      "source": [
        "# boot의 쇼타임 시작합니다.\n",
        "# 주의할점! True 와 true 가 같을까요? -> 전혀 다릅니다.\n",
        "# 그렇다면 False 와 false 가 같을까요? -> no.. 전혀 다릅니다.\n",
        "# True를 입력하면 파란글자로 나옵니다. 형태가 이미 자료형으로 인정이 되어있기 때문이죵\n",
        "# true를 입력하면 일반글자로 나옵니다. 변수선언이 가능할거 같구요 대문자 트루와 완전히 다른 취급을 받습니다.\n",
        "# 나중에 대소문자 제대로 안해서 \"어? 왜 True , False 가 작동을 안하지?\" 사태가 벌어집니다.\n",
        "\n",
        "# 부등호를 배워봅시다!\n",
        "3>1\n",
        "3==3\n",
        "3!=5"
      ]
    },
    {
      "cell_type": "code",
      "source": [
        "# 문자열 비교\n",
        "\"python\" == \"python\"\n",
        "\"python\" == \"Python\""
      ],
      "metadata": {
        "colab": {
          "base_uri": "https://localhost:8080/"
        },
        "id": "TNLnaGYREQeW",
        "outputId": "309f9e8f-f058-41d1-a73a-7d1d60b75204"
      },
      "execution_count": null,
      "outputs": [
        {
          "output_type": "execute_result",
          "data": {
            "text/plain": [
              "False"
            ]
          },
          "metadata": {},
          "execution_count": 11
        }
      ]
    },
    {
      "cell_type": "code",
      "source": [
        "# 중요!!\n",
        "# == , is 는 같은기능을 합니다!\n",
        "\n",
        "3.0 is 3"
      ],
      "metadata": {
        "colab": {
          "base_uri": "https://localhost:8080/"
        },
        "id": "cZ7uVlMIIyiy",
        "outputId": "e184ec54-95f1-441d-aee0-055ae4001200"
      },
      "execution_count": null,
      "outputs": [
        {
          "output_type": "stream",
          "name": "stderr",
          "text": [
            "<>:4: SyntaxWarning: \"is\" with a literal. Did you mean \"==\"?\n",
            "<>:4: SyntaxWarning: \"is\" with a literal. Did you mean \"==\"?\n",
            "<ipython-input-18-2897c25512e7>:4: SyntaxWarning: \"is\" with a literal. Did you mean \"==\"?\n",
            "  3.0 is 3\n"
          ]
        },
        {
          "output_type": "execute_result",
          "data": {
            "text/plain": [
              "False"
            ]
          },
          "metadata": {},
          "execution_count": 18
        }
      ]
    },
    {
      "cell_type": "code",
      "source": [
        "print(id(3.0))\n",
        "print(id(3))\n",
        "\n"
      ],
      "metadata": {
        "colab": {
          "base_uri": "https://localhost:8080/"
        },
        "id": "HbhmfEmb4mXF",
        "outputId": "ab4daad6-e2bf-4487-e96b-8ef56f950b8d"
      },
      "execution_count": null,
      "outputs": [
        {
          "output_type": "stream",
          "name": "stdout",
          "text": [
            "139635953786832\n",
            "139636384645424\n"
          ]
        }
      ]
    },
    {
      "cell_type": "markdown",
      "source": [
        "미션 : 값 비교에는 is 를 쓰면 안되는데 그 이유를 찾아서 기술 블로그에 작성해보세요"
      ],
      "metadata": {
        "id": "g6TSo7ctkzmC"
      }
    },
    {
      "cell_type": "code",
      "source": [
        "# 본격적인 논리연산자\n",
        "# True : 1 / False : 0\n",
        "True and True # 1*1 = 1\n",
        "True and False # 1*0 = 0\n",
        "False and True # 0*1 = 0\n",
        "False and False # 0*0 = 0"
      ],
      "metadata": {
        "colab": {
          "base_uri": "https://localhost:8080/"
        },
        "id": "iRtSnpE8ljbI",
        "outputId": "9b75fec0-1889-488c-c6b7-1bc71fca6757"
      },
      "execution_count": null,
      "outputs": [
        {
          "output_type": "execute_result",
          "data": {
            "text/plain": [
              "False"
            ]
          },
          "metadata": {},
          "execution_count": 7
        }
      ]
    },
    {
      "cell_type": "code",
      "source": [
        "# 본격적인 논리연산자\n",
        "# True : 1 / False : 0\n",
        "\n",
        "True or True # 1+1 = 1\n",
        "True or False # 1+0 = 1\n",
        "False or True # 0+1 = 1\n",
        "False or False # 0+0 = 0"
      ],
      "metadata": {
        "colab": {
          "base_uri": "https://localhost:8080/"
        },
        "id": "HPN1gWhFr8Kv",
        "outputId": "23f1fb8e-2cff-441b-8910-89271781a4cf"
      },
      "execution_count": null,
      "outputs": [
        {
          "output_type": "execute_result",
          "data": {
            "text/plain": [
              "False"
            ]
          },
          "metadata": {},
          "execution_count": 11
        }
      ]
    },
    {
      "cell_type": "code",
      "source": [
        "# not\n",
        "\n",
        "not True\n",
        "not False"
      ],
      "metadata": {
        "colab": {
          "base_uri": "https://localhost:8080/"
        },
        "id": "uhpcaKlotGA6",
        "outputId": "7ba1b850-87a5-4af2-a34c-79b8b2522b4f"
      },
      "execution_count": null,
      "outputs": [
        {
          "output_type": "execute_result",
          "data": {
            "text/plain": [
              "True"
            ]
          },
          "metadata": {},
          "execution_count": 13
        }
      ]
    },
    {
      "cell_type": "code",
      "source": [
        " # 점점 복잡해지는 조건들!!\n",
        "\n",
        " 10 == 12 or 6 != 2\n",
        " 2 > 5 and 7 == 7\n",
        " not 14 <= 15\n",
        " not 7 is 7.0"
      ],
      "metadata": {
        "colab": {
          "base_uri": "https://localhost:8080/"
        },
        "id": "NYegJ7oytubd",
        "outputId": "00188a98-6c11-4d15-d29f-ac5dc596024f"
      },
      "execution_count": null,
      "outputs": [
        {
          "output_type": "stream",
          "name": "stderr",
          "text": [
            "<>:6: SyntaxWarning: \"is not\" with a literal. Did you mean \"!=\"?\n",
            "<>:6: SyntaxWarning: \"is not\" with a literal. Did you mean \"!=\"?\n",
            "<ipython-input-17-b253e0f20565>:6: SyntaxWarning: \"is not\" with a literal. Did you mean \"!=\"?\n",
            "  not 7 is 7.0\n"
          ]
        },
        {
          "output_type": "execute_result",
          "data": {
            "text/plain": [
              "True"
            ]
          },
          "metadata": {},
          "execution_count": 17
        }
      ]
    },
    {
      "cell_type": "code",
      "source": [
        " # 문자열?? 너 뭐야 True 트루야?\n",
        "\n",
        " bool(\"힘들어요 여러분\")"
      ],
      "metadata": {
        "colab": {
          "base_uri": "https://localhost:8080/"
        },
        "id": "i4JFLCqG0pR-",
        "outputId": "c479f35e-3aed-47eb-ec44-a3c538d73833"
      },
      "execution_count": null,
      "outputs": [
        {
          "output_type": "execute_result",
          "data": {
            "text/plain": [
              "True"
            ]
          },
          "metadata": {},
          "execution_count": 18
        }
      ]
    },
    {
      "cell_type": "code",
      "source": [
        "# 굉장히 중요한 내용\n",
        "# 단락 평가\n",
        "print(False and True)\n",
        "print(False and \"힘들어요\")\n",
        "\n",
        "# False and 가 있으면 뒤에 단락은 평가하지 않는다 (단락평가)\n",
        "# \"힘들어요\"가 True 라고 해도 False and 가 있어서 어쨋든 False 로 나온다\n",
        "\n",
        "print(True or True)\n",
        "print(True or \"힘들어요\")\n",
        "print(True and \"힘들어요\")\n",
        "\n",
        "# True or 가 있으면 뒤에 단락은 평가하지 않는다 (단락평가"
      ],
      "metadata": {
        "colab": {
          "base_uri": "https://localhost:8080/"
        },
        "id": "YmyUmFdv035N",
        "outputId": "fbd0a19d-7315-498e-8b13-2cd53bce9ba3"
      },
      "execution_count": null,
      "outputs": [
        {
          "output_type": "stream",
          "name": "stdout",
          "text": [
            "False\n",
            "False\n",
            "True\n",
            "True\n",
            "힘들어요\n"
          ]
        }
      ]
    }
  ]
}