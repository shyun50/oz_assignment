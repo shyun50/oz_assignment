{
  "nbformat": 4,
  "nbformat_minor": 0,
  "metadata": {
    "colab": {
      "provenance": [],
      "authorship_tag": "ABX9TyPdDFH4TmtKkII1p7q0w3V2",
      "include_colab_link": true
    },
    "kernelspec": {
      "name": "python3",
      "display_name": "Python 3"
    },
    "language_info": {
      "name": "python"
    }
  },
  "cells": [
    {
      "cell_type": "markdown",
      "metadata": {
        "id": "view-in-github",
        "colab_type": "text"
      },
      "source": [
        "<a href=\"https://colab.research.google.com/github/shyun50/oz_assignment/blob/main/chapter7.ipynb\" target=\"_parent\"><img src=\"https://colab.research.google.com/assets/colab-badge.svg\" alt=\"Open In Colab\"/></a>"
      ]
    },
    {
      "cell_type": "code",
      "execution_count": null,
      "metadata": {
        "id": "_pV0bXk34Lhu",
        "colab": {
          "base_uri": "https://localhost:8080/"
        },
        "outputId": "1723a7e6-53ee-4541-dd48-04bf9243ad99"
      },
      "outputs": [
        {
          "output_type": "stream",
          "name": "stdout",
          "text": [
            "<class 'str'>\n",
            "<class 'int'>\n",
            "<class 'int'>\n",
            "<class 'str'>\n"
          ]
        }
      ],
      "source": [
        "# 챕터6 복습\n",
        "이름 = '김소현'\n",
        "나이 = 30\n",
        "키 = 170\n",
        "소속 = 'sh컴퍼니'\n",
        "print(type(이름))\n",
        "print(type(나이))\n",
        "print(type(키))\n",
        "print(type(소속))\n"
      ]
    },
    {
      "cell_type": "code",
      "source": [
        "print(float(5))\n",
        "print(int(5.0))\n",
        "print(\"5\",\"5.0\")\n",
        "print(type(\"5\"), type(\"5.0\"))"
      ],
      "metadata": {
        "colab": {
          "base_uri": "https://localhost:8080/"
        },
        "id": "3Z5_qY1XUxpZ",
        "outputId": "8e00a60b-1349-4687-8f52-c9676dbd192e"
      },
      "execution_count": null,
      "outputs": [
        {
          "output_type": "stream",
          "name": "stdout",
          "text": [
            "5.0\n",
            "5\n",
            "5 5.0\n",
            "<class 'str'> <class 'str'>\n"
          ]
        }
      ]
    },
    {
      "cell_type": "markdown",
      "source": [
        "str : 문자열  \n",
        "특징 : 시퀀스 자료형  \n",
        "시퀀스란? 요소들이 연속적으로 이어진 자료형  \n",
        "값 하나하나를 요소라고 합니다."
      ],
      "metadata": {
        "id": "Pe6DUPuFi-TK"
      }
    },
    {
      "cell_type": "code",
      "source": [
        "# 0 은 인덱스\n",
        "# 인덱스는 위치를 나타내는 용어\n",
        "# 모든 프로그래밍이 전부 0부터 시작한다!\n",
        "소속 = 'sh컴퍼니'\n",
        "print(소속)\n",
        "print(소속[0])\n",
        "print(소속[1])\n",
        "print(소속[2])\n",
        "print(소속[3])\n",
        "print(소속[4])"
      ],
      "metadata": {
        "colab": {
          "base_uri": "https://localhost:8080/"
        },
        "id": "C_TpdR-FkAaH",
        "outputId": "06821851-dd03-4866-93f3-b3ee18cb55ed"
      },
      "execution_count": null,
      "outputs": [
        {
          "output_type": "stream",
          "name": "stdout",
          "text": [
            "sh컴퍼니\n",
            "s\n",
            "h\n",
            "컴\n",
            "퍼\n",
            "니\n"
          ]
        }
      ]
    },
    {
      "cell_type": "code",
      "source": [
        "\"컴\" in 소속\n",
        "\"5\" in 소속"
      ],
      "metadata": {
        "colab": {
          "base_uri": "https://localhost:8080/"
        },
        "id": "k8GPBkq8mi_T",
        "outputId": "b81ab65e-9eae-4ef5-cbaa-72a19b35446f"
      },
      "execution_count": null,
      "outputs": [
        {
          "output_type": "execute_result",
          "data": {
            "text/plain": [
              "False"
            ]
          },
          "metadata": {},
          "execution_count": 11
        }
      ]
    },
    {
      "cell_type": "code",
      "source": [
        "# 문자열 즉 시퀀스 끼리 합치기\n",
        "\n",
        "\"13\" + \"금요일\""
      ],
      "metadata": {
        "id": "df7YYFEOnJ7j"
      },
      "execution_count": null,
      "outputs": []
    },
    {
      "cell_type": "code",
      "source": [
        "# 시퀀스 자료형은 복사가 가능합니다.\n",
        "\n",
        "옛날게임 = \"바니바니 당근당근\" * 3\n",
        "print(옛날게임)\n",
        "len(옛날게임)\n"
      ],
      "metadata": {
        "colab": {
          "base_uri": "https://localhost:8080/"
        },
        "id": "wJDTXUPjo9z_",
        "outputId": "324c6bdd-473a-4bff-f033-3e4519d48a16"
      },
      "execution_count": null,
      "outputs": [
        {
          "output_type": "stream",
          "name": "stdout",
          "text": [
            "바니바니 당근당근바니바니 당근당근바니바니 당근당근\n"
          ]
        },
        {
          "output_type": "execute_result",
          "data": {
            "text/plain": [
              "27"
            ]
          },
          "metadata": {},
          "execution_count": 14
        }
      ]
    },
    {
      "cell_type": "markdown",
      "source": [
        "퀴즈 = \"차 4대가 고장나면? 카포에라\".\n",
        "\n",
        "print(퀴즈[12:16])  \n",
        "\n",
        "왜 끝이 15인데 16으로 하나요? -> 마지막은 +1이 된 위치를 적어주어야 합니다!"
      ],
      "metadata": {
        "id": "e0JeGBVXq9Jn"
      }
    },
    {
      "cell_type": "code",
      "source": [
        "퀴즈 = \"차 4대가 고장나면? 카포에라\"\n",
        "print(퀴즈[12:16])"
      ],
      "metadata": {
        "colab": {
          "base_uri": "https://localhost:8080/"
        },
        "id": "m25y8Qolsxcw",
        "outputId": "cc00c605-b40a-4e63-cbfa-609975124054"
      },
      "execution_count": null,
      "outputs": [
        {
          "output_type": "stream",
          "name": "stdout",
          "text": [
            "카포에라\n"
          ]
        }
      ]
    },
    {
      "cell_type": "code",
      "source": [
        "퀴즈[15], 퀴즈[7]"
      ],
      "metadata": {
        "colab": {
          "base_uri": "https://localhost:8080/"
        },
        "id": "9F4i3CCGuOOP",
        "outputId": "a5d1ca04-071c-4d59-d263-136f202b828c"
      },
      "execution_count": null,
      "outputs": [
        {
          "output_type": "execute_result",
          "data": {
            "text/plain": [
              "('라', '장')"
            ]
          },
          "metadata": {},
          "execution_count": 17
        }
      ]
    },
    {
      "cell_type": "code",
      "source": [
        "생년월일 = \"2000.12.25\"\n",
        "년 = 생년월일[0:4]\n",
        "월 = 생년월일[5:7]\n",
        "일 = 생년월일[8:13]\n",
        "\n",
        "print(f'{년}, {월}, {일}')\n",
        "\n",
        "# 2000 12 25\n"
      ],
      "metadata": {
        "colab": {
          "base_uri": "https://localhost:8080/"
        },
        "id": "iPpirvQP0sF_",
        "outputId": "d800be9b-026f-4c28-8ea2-b6467a8868cf"
      },
      "execution_count": null,
      "outputs": [
        {
          "output_type": "stream",
          "name": "stdout",
          "text": [
            "2000, 12, 25\n"
          ]
        }
      ]
    },
    {
      "cell_type": "code",
      "source": [
        "숫자 = \"123838483848939\"\n",
        "# 전체 출력\n",
        "print(숫자[:])\n",
        "print(숫자[::])\n",
        "print(숫자[::-1])\n",
        "print(숫자[4:1:-1])\n",
        "print(숫자[1:4])"
      ],
      "metadata": {
        "colab": {
          "base_uri": "https://localhost:8080/"
        },
        "id": "OzFfJGa2NxpD",
        "outputId": "5319ff70-af9e-4db7-b646-554df8328344"
      },
      "execution_count": null,
      "outputs": [
        {
          "output_type": "stream",
          "name": "stdout",
          "text": [
            "123838483848939\n",
            "123838483848939\n",
            "939848384838321\n",
            "383\n",
            "238\n"
          ]
        }
      ]
    },
    {
      "cell_type": "code",
      "source": [
        "퀴즈 = \"스님이 공중에 뜬다를 4글자로 말하면? 어중이떠중이\"\n",
        "print( 퀴즈 [22:28])"
      ],
      "metadata": {
        "colab": {
          "base_uri": "https://localhost:8080/"
        },
        "id": "jqC97-HOROIR",
        "outputId": "0fe7e625-b3bc-40e0-c171-9a706aa880b7"
      },
      "execution_count": null,
      "outputs": [
        {
          "output_type": "stream",
          "name": "stdout",
          "text": [
            "어중이떠중이\n"
          ]
        }
      ]
    },
    {
      "cell_type": "code",
      "source": [
        "과일 = \"apple\"\n",
        "과일 . count(\"p\")"
      ],
      "metadata": {
        "colab": {
          "base_uri": "https://localhost:8080/"
        },
        "id": "n5K8M9jjRcOu",
        "outputId": "3ab25c79-253c-4725-e71c-14ac05148ee6"
      },
      "execution_count": null,
      "outputs": [
        {
          "output_type": "execute_result",
          "data": {
            "text/plain": [
              "2"
            ]
          },
          "metadata": {},
          "execution_count": 1
        }
      ]
    },
    {
      "cell_type": "code",
      "source": [
        "과일[2]\n",
        "과일. index(\"p\")"
      ],
      "metadata": {
        "id": "_75ZysgHxvcI"
      },
      "execution_count": null,
      "outputs": []
    },
    {
      "cell_type": "code",
      "source": [
        "라라랜드 = \"사람들은 다른 사람들의 열정에 끌리게 되어있어 자신이 잊은 걸 상기시켜 주니까\"\n",
        "\n",
        "len(라라랜드)\n",
        "print(라라랜드)\n",
        "print(라라랜드[0:22])"
      ],
      "metadata": {
        "colab": {
          "base_uri": "https://localhost:8080/"
        },
        "id": "1WhAe8WFy2sZ",
        "outputId": "0b0ef5d4-6d71-41e9-9a72-cd7ec1ea111d"
      },
      "execution_count": null,
      "outputs": [
        {
          "output_type": "stream",
          "name": "stdout",
          "text": [
            "사람들은 다른 사람들의 열정에 끌리게 되어있어 자신이 잊은 걸 상기시켜 주니까\n",
            "사람들은 다른 사람들의 열정에 끌리게 되\n"
          ]
        }
      ]
    }
  ]
}