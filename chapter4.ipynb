{
  "nbformat": 4,
  "nbformat_minor": 0,
  "metadata": {
    "colab": {
      "provenance": [],
      "authorship_tag": "ABX9TyPpLK+JzOarLIZoXa0yZ6Kt",
      "include_colab_link": true
    },
    "kernelspec": {
      "name": "python3",
      "display_name": "Python 3"
    },
    "language_info": {
      "name": "python"
    }
  },
  "cells": [
    {
      "cell_type": "markdown",
      "metadata": {
        "id": "view-in-github",
        "colab_type": "text"
      },
      "source": [
        "<a href=\"https://colab.research.google.com/github/shyun50/oz_assignment/blob/main/chapter4.ipynb\" target=\"_parent\"><img src=\"https://colab.research.google.com/assets/colab-badge.svg\" alt=\"Open In Colab\"/></a>"
      ]
    },
    {
      "cell_type": "markdown",
      "source": [
        "##사칙연산\n",
        "더하기 : +\n",
        "\n",
        "빼기 : -\n",
        "\n",
        "곱하기 : *\n",
        "\n",
        "나누기 :\n",
        "*   / : 우리가 알고 있는 나누기와 동일한 기능(예 5/2 = 2.5)\n",
        "*   // : 몫을 반환(예 5/2 =2)\n",
        "*   % : 나머지를 반환(예 5/2 =1)\n",
        "\n",
        "\n",
        "거듭제곱 : **"
      ],
      "metadata": {
        "id": "cRJYQBEq9Qam"
      }
    },
    {
      "cell_type": "code",
      "source": [
        "#더하기\n",
        "print(3+2)"
      ],
      "metadata": {
        "colab": {
          "base_uri": "https://localhost:8080/"
        },
        "id": "c-0XY1BX9IdB",
        "outputId": "4e8da27b-e628-40ee-a9e7-82f5b99fdd8b"
      },
      "execution_count": 4,
      "outputs": [
        {
          "output_type": "stream",
          "name": "stdout",
          "text": [
            "5\n"
          ]
        }
      ]
    },
    {
      "cell_type": "code",
      "source": [
        "#빼기\n",
        "print(3-1)"
      ],
      "metadata": {
        "colab": {
          "base_uri": "https://localhost:8080/"
        },
        "id": "v1xMTIoOZLmV",
        "outputId": "cb481811-a560-4512-f109-d6ec21f804d1"
      },
      "execution_count": 5,
      "outputs": [
        {
          "output_type": "stream",
          "name": "stdout",
          "text": [
            "2\n"
          ]
        }
      ]
    },
    {
      "cell_type": "code",
      "source": [
        "#곱하기\n",
        "print(2*7)"
      ],
      "metadata": {
        "colab": {
          "base_uri": "https://localhost:8080/"
        },
        "id": "IGvjEiD8ZLaI",
        "outputId": "388a15ce-7592-4daa-a944-b767d266a614"
      },
      "execution_count": 6,
      "outputs": [
        {
          "output_type": "stream",
          "name": "stdout",
          "text": [
            "14\n"
          ]
        }
      ]
    },
    {
      "cell_type": "code",
      "source": [
        "#나누기\n",
        "print(5/2)\n",
        "print(5//2)\n",
        "print(5%2)"
      ],
      "metadata": {
        "colab": {
          "base_uri": "https://localhost:8080/"
        },
        "id": "UNkPNMXdZLCk",
        "outputId": "695af108-f61c-48d7-8ee9-6156568c226e"
      },
      "execution_count": 9,
      "outputs": [
        {
          "output_type": "stream",
          "name": "stdout",
          "text": [
            "2.5\n",
            "2\n",
            "1\n"
          ]
        }
      ]
    },
    {
      "cell_type": "code",
      "source": [
        "#거듭제곱\n",
        "print(5**2)"
      ],
      "metadata": {
        "colab": {
          "base_uri": "https://localhost:8080/"
        },
        "id": "gBIyZhtQjsXG",
        "outputId": "c7ea9fe1-891c-43e8-c31e-03ab79643a34"
      },
      "execution_count": 10,
      "outputs": [
        {
          "output_type": "stream",
          "name": "stdout",
          "text": [
            "25\n"
          ]
        }
      ]
    }
  ]
}