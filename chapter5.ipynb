{
  "nbformat": 4,
  "nbformat_minor": 0,
  "metadata": {
    "colab": {
      "provenance": [],
      "authorship_tag": "ABX9TyOrmKOF3Zg9rH5tAvvgkBoY",
      "include_colab_link": true
    },
    "kernelspec": {
      "name": "python3",
      "display_name": "Python 3"
    },
    "language_info": {
      "name": "python"
    }
  },
  "cells": [
    {
      "cell_type": "markdown",
      "metadata": {
        "id": "view-in-github",
        "colab_type": "text"
      },
      "source": [
        "<a href=\"https://colab.research.google.com/github/shyun50/oz_assignment/blob/main/chapter5.ipynb\" target=\"_parent\"><img src=\"https://colab.research.google.com/assets/colab-badge.svg\" alt=\"Open In Colab\"/></a>"
      ]
    },
    {
      "cell_type": "code",
      "execution_count": 4,
      "metadata": {
        "colab": {
          "base_uri": "https://localhost:8080/"
        },
        "id": "sRh1eAiSurZL",
        "outputId": "ffa3b81c-f4f2-42d6-a3fe-17bd8eb73ff6"
      },
      "outputs": [
        {
          "output_type": "stream",
          "name": "stdout",
          "text": [
            "1\n",
            "2\n",
            "1 2\n"
          ]
        }
      ],
      "source": [
        "# 하나의 값을 변수에 넣을 때\n",
        "num = 1\n",
        "#print(num)\n",
        "\n",
        "# 두개의 값을 변수에 넣을 때\n",
        "num_1, num_2 =1, 2\n",
        "print(num_1)\n",
        "print(num_2)\n",
        "\n",
        "print(num_1, num_2)"
      ]
    },
    {
      "cell_type": "markdown",
      "source": [
        "1부터 5까지의 숫자를 더하는 문제를 풀어보겠습니다.\n",
        "단, 다음 숫자를 더하기 위해서 매번 새로운 줄에서 시작해야하는 조건이 있습니다."
      ],
      "metadata": {
        "id": "w_o73PDzIFL9"
      }
    },
    {
      "cell_type": "code",
      "source": [
        "# 변수를 사용하지 않을 떄\n",
        "# 이전에 계산된 결과를 저장할 수 있는 방법이 없음\n",
        "1+2\n",
        "1+2+3\n",
        "1+2+3+4\n",
        "1+2+3+4+5"
      ],
      "metadata": {
        "colab": {
          "base_uri": "https://localhost:8080/"
        },
        "id": "6NLHWFCbIcyh",
        "outputId": "00817a4a-259e-445d-9845-dffda219fcc5"
      },
      "execution_count": 5,
      "outputs": [
        {
          "output_type": "execute_result",
          "data": {
            "text/plain": [
              "15"
            ]
          },
          "metadata": {},
          "execution_count": 5
        }
      ]
    },
    {
      "cell_type": "code",
      "source": [
        "# 변수를 사용할 때\n",
        "# 이전의 계산한 결과를 저장해서 사용할 수 있음\n",
        "sum = 1+2\n",
        "sum = sum + 3\n",
        "sum = sum + 4\n",
        "sum = sum + 5\n",
        "\n",
        "print(sum)"
      ],
      "metadata": {
        "colab": {
          "base_uri": "https://localhost:8080/"
        },
        "id": "GJDZ9B_BI8S5",
        "outputId": "063e0417-c7ba-4739-d7aa-1786a84c0850"
      },
      "execution_count": 7,
      "outputs": [
        {
          "output_type": "stream",
          "name": "stdout",
          "text": [
            "15\n"
          ]
        }
      ]
    },
    {
      "cell_type": "markdown",
      "source": [
        "### 변수에 값을 넣는 것 -> 할당\n",
        "\n",
        "sum = 1 + 2 -> 1+2의 계산된 결과를 sum이라는 변수에 할당한다.\n",
        "\n",
        "sum 변수명이고 '=' 같다는 의미가 아니라 할당(assignment) 이라고 한다.\n",
        "\n",
        "'=' : 할당 연산자\n",
        "'+' : 산술 연산자\n",
        "\n",
        "'+=' : 산술 후 바로 할당하는 문법\n",
        "\n",
        "/= , -= , *= 모두 가능합니다."
      ],
      "metadata": {
        "id": "Sim9ASslNOMu"
      }
    },
    {
      "cell_type": "code",
      "source": [
        "# 변수를 사용하면서 사용 가능한 문법\n",
        "\n",
        "sum = 1+2\n",
        "sum = sum + 3\n",
        "sum = sum + 4\n",
        "sum = sum + 5\n",
        "\n",
        "print(sum)\n",
        "\n",
        "sum2 = 1 + 2\n",
        "sum2 += 3\n",
        "sum2 += 4\n",
        "sum2 += 5\n",
        "\n",
        "print(sum2)"
      ],
      "metadata": {
        "colab": {
          "base_uri": "https://localhost:8080/"
        },
        "id": "2BYh-j2rPawR",
        "outputId": "7d1991ed-0763-45cc-efc5-914e0ccaf60b"
      },
      "execution_count": 8,
      "outputs": [
        {
          "output_type": "stream",
          "name": "stdout",
          "text": [
            "15\n",
            "15\n"
          ]
        }
      ]
    },
    {
      "cell_type": "code",
      "source": [
        "# 주의 !! 선언되지 않은 변수를 사용할 경우 에러 발생\n",
        "sum3 += 1"
      ],
      "metadata": {
        "colab": {
          "base_uri": "https://localhost:8080/",
          "height": 162
        },
        "id": "0AlChMAMfjQe",
        "outputId": "05b1b461-636e-4919-d11e-8abf02b67057"
      },
      "execution_count": 9,
      "outputs": [
        {
          "output_type": "error",
          "ename": "NameError",
          "evalue": "name 'sum3' is not defined",
          "traceback": [
            "\u001b[0;31m---------------------------------------------------------------------------\u001b[0m",
            "\u001b[0;31mNameError\u001b[0m                                 Traceback (most recent call last)",
            "\u001b[0;32m<ipython-input-9-531bd06f4036>\u001b[0m in \u001b[0;36m<cell line: 2>\u001b[0;34m()\u001b[0m\n\u001b[1;32m      1\u001b[0m \u001b[0;31m# 주의 !! 선언되지 않은 변수를 사용할 경우 에러 발생\u001b[0m\u001b[0;34m\u001b[0m\u001b[0;34m\u001b[0m\u001b[0m\n\u001b[0;32m----> 2\u001b[0;31m \u001b[0msum3\u001b[0m \u001b[0;34m+=\u001b[0m \u001b[0;36m1\u001b[0m\u001b[0;34m\u001b[0m\u001b[0;34m\u001b[0m\u001b[0m\n\u001b[0m",
            "\u001b[0;31mNameError\u001b[0m: name 'sum3' is not defined"
          ]
        }
      ]
    },
    {
      "cell_type": "code",
      "source": [
        "# 변수에 어떤값도 넣고 싶지 않고 선언하는 방법\n",
        "\n",
        "nothing = None\n",
        "print(None)"
      ],
      "metadata": {
        "colab": {
          "base_uri": "https://localhost:8080/"
        },
        "id": "9H-lSHA0hDcs",
        "outputId": "911a4342-db94-43c4-c765-98afd448169b"
      },
      "execution_count": 10,
      "outputs": [
        {
          "output_type": "stream",
          "name": "stdout",
          "text": [
            "None\n"
          ]
        }
      ]
    },
    {
      "cell_type": "markdown",
      "source": [
        " ### 변수를 만드는 규칙\n",
        " 영문 문자와 숫자를 사용할 수 있습니다.  \n",
        " 대소문자를 구분합니다.  \n",
        " 첫글자는 대문자로 쓰는걸 지향합니다.  \n",
        " 문자부터 시작해야 하며 숫자부터 시작하면 안됩니다.  \n",
        " _(밑줄문자)로 시작할 수 있습니다.  \n",
        " 특수문자(+, -, *, /, $, @, &, % 등)는 사용할 수 없습니다.  \n",
        " 파이썬의 키워드(it, for, while, and, or 등)는 사용할 수 없습니다."
      ],
      "metadata": {
        "id": "pv7HYlckjOxT"
      }
    },
    {
      "cell_type": "code",
      "source": [
        "# 대소문자를 구분하는 변수\n",
        "BIG = '크다'\n",
        "big = '작다'\n",
        "\n",
        "print(BIG, big)"
      ],
      "metadata": {
        "colab": {
          "base_uri": "https://localhost:8080/"
        },
        "id": "ttF3PUPM4vFz",
        "outputId": "a3e48414-8013-4608-ad92-6554707bac77"
      },
      "execution_count": 11,
      "outputs": [
        {
          "output_type": "stream",
          "name": "stdout",
          "text": [
            "크다 작다\n"
          ]
        }
      ]
    },
    {
      "cell_type": "markdown",
      "source": [
        "스네이크케이스 (snake case)  \n",
        "변수명 : snake_case _ <- 뱀인가요?\n",
        "\n",
        "카멜케이스 (camel case)  \n",
        "변수명 : camelCase <- 낙타가 보이시나요?"
      ],
      "metadata": {
        "id": "FAoKkkWR5XiT"
      }
    },
    {
      "cell_type": "code",
      "source": [
        "# 우리는 변수를 만들때 스네이크케이스로 진행합니다. 그리고 언더바는 2개를 적용시켜주세요.\n",
        "# 개발에 관련된 여러 조건을 명시하는 것들을 코드 컨벤션이라고 합니다.\n",
        "\n",
        "box__shose = '스니커즈'\n",
        "box__hat = '슈프림 모자'\n",
        "\n",
        "print(box__shose)\n",
        "print(box__hat)"
      ],
      "metadata": {
        "colab": {
          "base_uri": "https://localhost:8080/"
        },
        "id": "hA-LW9Fl6nsq",
        "outputId": "3bc25a5c-6d80-46e9-8566-07c2d085572a"
      },
      "execution_count": 12,
      "outputs": [
        {
          "output_type": "stream",
          "name": "stdout",
          "text": [
            "스니커즈\n",
            "슈프림 모자\n"
          ]
        }
      ]
    },
    {
      "cell_type": "code",
      "source": [
        "#print() : 포멧팅 3가지 f-string : print(f' {변수명} ')\n",
        "\n",
        "me = '소현이'\n",
        "print(f'{me}만 강아지를 키워')"
      ],
      "metadata": {
        "colab": {
          "base_uri": "https://localhost:8080/"
        },
        "id": "9_olRtX37aht",
        "outputId": "f142edaf-a5d1-4398-c3c2-320f28b88e36"
      },
      "execution_count": 14,
      "outputs": [
        {
          "output_type": "stream",
          "name": "stdout",
          "text": [
            "소현이만 강아지를 키워\n"
          ]
        }
      ]
    },
    {
      "cell_type": "code",
      "source": [
        "# 붕어빵 철이 돌아왔죠\n",
        "# 붕어빵(팥) : 2000원 , 붕어빵(슈크림) : 2500원 , 붕어빵(잡채) : 3000원\n",
        "# 무인 주문기계를 만들어 주세요\n",
        "# 붕어빵(잡채) 3개, 붕어빵(슈크림) 2개를 주문하면\n",
        "# \"주문이 완료되었습니다. 붕어빵(슈크림) 2개, 붕어빵(잡채) 3개 총 5개 결제 금액은 14000원 입니다.\"\n",
        "# 이 출력되도록 코드를 작성해주세요.\n",
        "# 변수를 만들때 스네이크 케이스에 언더바는 2개 / print()문의 포메팅 f-string"
      ],
      "metadata": {
        "id": "nBE75PVXskvW"
      },
      "execution_count": null,
      "outputs": []
    },
    {
      "cell_type": "code",
      "source": [
        "# 변수값 입력\n",
        "fish__p, fish__s, fish__j =\"붕어빵(팥)\", \"붕어빵(슈크림)\", \"붕어빵(잡채)\"\n",
        "fish__p__sell, fish__s__sell, fish__j__sell = 2000, 2500, 3000\n",
        "order_s, order_j = 2, 3\n",
        "\n",
        "# 붕어빵 계산값\n",
        "order_j__pay, order_s__pay = fish__j__sell * 3, fish__s__sell * 2\n",
        "\n",
        "# 구매 총 개수\n",
        "total = order_s + order_j\n",
        "\n",
        "# 구매 총 금액\n",
        "total_pay = order_s__pay + order_j__pay\n",
        "\n",
        "# 출력\n",
        "print(f'주문이 완료되었습니다. {fish__s}{order_s}개, {fish__j}{order_j}개 총 {total}개 결제금액은 {total_pay}원 입니다.')\n"
      ],
      "metadata": {
        "colab": {
          "base_uri": "https://localhost:8080/"
        },
        "id": "gC506hfCvVK8",
        "outputId": "fbaefac4-45ab-40b0-b0a8-33837e3049ad"
      },
      "execution_count": 4,
      "outputs": [
        {
          "output_type": "stream",
          "name": "stdout",
          "text": [
            "주문이 완료되었습니다. 붕어빵(슈크림)2개, 붕어빵(잡채)3개 총 5개 결제금액은 14000원 입니다.\n"
          ]
        }
      ]
    }
  ]
}