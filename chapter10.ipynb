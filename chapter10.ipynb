{
  "nbformat": 4,
  "nbformat_minor": 0,
  "metadata": {
    "colab": {
      "provenance": [],
      "authorship_tag": "ABX9TyPks7cOZ8lJ+6Clhoa1iWxR",
      "include_colab_link": true
    },
    "kernelspec": {
      "name": "python3",
      "display_name": "Python 3"
    },
    "language_info": {
      "name": "python"
    }
  },
  "cells": [
    {
      "cell_type": "markdown",
      "metadata": {
        "id": "view-in-github",
        "colab_type": "text"
      },
      "source": [
        "<a href=\"https://colab.research.google.com/github/shyun50/oz_assignment/blob/main/chapter10.ipynb\" target=\"_parent\"><img src=\"https://colab.research.google.com/assets/colab-badge.svg\" alt=\"Open In Colab\"/></a>"
      ]
    },
    {
      "cell_type": "markdown",
      "source": [
        "### list\n",
        "\n",
        "* list란? 원소들이 연속적으로 저장되는 형태의 자료형을 말합니다.\n",
        "* 시퀀스 자료형!!\n",
        "   * str(정복) , list(정복 예정) , tuple , dict , set\n",
        "* 만드는 방법은 쉬워요 대괄호로 묶어주고, 값들은 콤마로 구분합니다."
      ],
      "metadata": {
        "id": "j633NzC72JcW"
      }
    },
    {
      "cell_type": "code",
      "execution_count": null,
      "metadata": {
        "colab": {
          "base_uri": "https://localhost:8080/"
        },
        "id": "cus2rF0kOvKS",
        "outputId": "f734de84-1fb7-435c-dfbb-6dc77cd0d110"
      },
      "outputs": [
        {
          "output_type": "stream",
          "name": "stdout",
          "text": [
            "[]\n",
            "[23, '이게 리스트다', 3, 23, True]\n"
          ]
        }
      ],
      "source": [
        "# 첫 리스트 두근두근\n",
        "\n",
        "리스트 = []\n",
        "print(리스트)\n",
        "\n",
        "리스트 = [23, \"이게 리스트다\" , 3,23, True ]\n",
        "print(리스트)"
      ]
    },
    {
      "cell_type": "code",
      "source": [
        "# 다시 해봅시다\n",
        "리스트 = [\"이\" , \"렇\", \"게\", \"만\", \"들\", \"어\", \"요\"]\n",
        "리스트\n",
        "리스트2 = list()\n",
        "리스트2"
      ],
      "metadata": {
        "colab": {
          "base_uri": "https://localhost:8080/"
        },
        "id": "Qcvnangfqk5h",
        "outputId": "646e321d-61e2-4ba8-c57b-345dd1feb8e8"
      },
      "execution_count": null,
      "outputs": [
        {
          "output_type": "execute_result",
          "data": {
            "text/plain": [
              "[]"
            ]
          },
          "metadata": {},
          "execution_count": 5
        }
      ]
    },
    {
      "cell_type": "code",
      "source": [
        "# range? 연속된 숫자를 생산하는 기능이 있다.\n",
        "range(10)\n",
        "\n",
        "# 이 안에 0,1,2,3,4,5,6,7,8,9,10 다 있지만 표시는 (0,10)으로 되어있음\n"
      ],
      "metadata": {
        "colab": {
          "base_uri": "https://localhost:8080/"
        },
        "id": "qfoXF6apyyag",
        "outputId": "dd96960c-1df2-4390-ecc9-26ed55ad6456"
      },
      "execution_count": null,
      "outputs": [
        {
          "output_type": "execute_result",
          "data": {
            "text/plain": [
              "range(0, 10)"
            ]
          },
          "metadata": {},
          "execution_count": 6
        }
      ]
    },
    {
      "cell_type": "code",
      "source": [
        "#list(range(시작, 끝))\n",
        "리스트_매직 = list(range(0,20))\n",
        "리스트_매직\n",
        "#0~20번이지만 0부터 시작이라 index의 위치로 20번인것임(길이)"
      ],
      "metadata": {
        "colab": {
          "base_uri": "https://localhost:8080/"
        },
        "id": "VQpsH5ly3hVe",
        "outputId": "95c6a0cc-ecb6-4c1e-8374-51483264cb20"
      },
      "execution_count": null,
      "outputs": [
        {
          "output_type": "execute_result",
          "data": {
            "text/plain": [
              "[0, 1, 2, 3, 4, 5, 6, 7, 8, 9, 10, 11, 12, 13, 14, 15, 16, 17, 18, 19]"
            ]
          },
          "metadata": {},
          "execution_count": 7
        }
      ]
    },
    {
      "cell_type": "code",
      "source": [
        "# list(range(시작,끝,증가))\n",
        "리스트_매직 = list(range(0,20,2))\n",
        "리스트_매직\n",
        "\n",
        "리스트_매직2 = list(range(10,0,-1))\n",
        "리스트_매직2\n",
        "\n",
        "리스트_매직3 = list(range(10,0))\n",
        "리스트_매직3"
      ],
      "metadata": {
        "colab": {
          "base_uri": "https://localhost:8080/"
        },
        "id": "t26ZFjao6aQd",
        "outputId": "24644812-1676-4398-f1c4-e9576608504d"
      },
      "execution_count": null,
      "outputs": [
        {
          "output_type": "execute_result",
          "data": {
            "text/plain": [
              "[]"
            ]
          },
          "metadata": {},
          "execution_count": 11
        }
      ]
    },
    {
      "cell_type": "code",
      "source": [
        "# 끝나지 않은 리스트 매직\n",
        "# 리스트를 이용해 변수애 값 넣기\n",
        "\n",
        "a, b, c = [\"들\",\"어\",\"가\"]\n",
        "print(a,b,c)\n",
        "d, e, f =[7, 7 ,8]\n",
        "print(d,e,f)\n",
        "\n",
        "지갑 = [10000, 5000, 1000]\n",
        "만원, 오천원, 천원 = 지갑\n",
        "print(f'{만원} 2장 , {오천원} 3장 , {천원} 1장')"
      ],
      "metadata": {
        "colab": {
          "base_uri": "https://localhost:8080/"
        },
        "id": "ncHwVa0d7Bkp",
        "outputId": "eeb95089-a3af-4824-ed9e-1028b930224d"
      },
      "execution_count": null,
      "outputs": [
        {
          "output_type": "stream",
          "name": "stdout",
          "text": [
            "들 어 가\n",
            "7 7 8\n",
            "10000 2장 , 5000 3장 , 1000 1장\n"
          ]
        }
      ]
    }
  ]
}