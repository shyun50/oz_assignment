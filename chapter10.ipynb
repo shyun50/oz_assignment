{
  "nbformat": 4,
  "nbformat_minor": 0,
  "metadata": {
    "colab": {
      "provenance": [],
      "authorship_tag": "ABX9TyOHF9MDAz2BUqrB6gkTFQ47",
      "include_colab_link": true
    },
    "kernelspec": {
      "name": "python3",
      "display_name": "Python 3"
    },
    "language_info": {
      "name": "python"
    }
  },
  "cells": [
    {
      "cell_type": "markdown",
      "metadata": {
        "id": "view-in-github",
        "colab_type": "text"
      },
      "source": [
        "<a href=\"https://colab.research.google.com/github/shyun50/oz_assignment/blob/main/chapter10.ipynb\" target=\"_parent\"><img src=\"https://colab.research.google.com/assets/colab-badge.svg\" alt=\"Open In Colab\"/></a>"
      ]
    },
    {
      "cell_type": "markdown",
      "source": [
        "### list\n",
        "\n",
        "* list란? 원소들이 연속적으로 저장되는 형태의 자료형을 말합니다.\n",
        "* 시퀀스 자료형!!\n",
        "   * str(정복) , list(정복 예정) , tuple , dict , set\n",
        "* 만드는 방법은 쉬워요 대괄호로 묶어주고, 값들은 콤마로 구분합니다."
      ],
      "metadata": {
        "id": "j633NzC72JcW"
      }
    },
    {
      "cell_type": "code",
      "execution_count": 7,
      "metadata": {
        "colab": {
          "base_uri": "https://localhost:8080/"
        },
        "id": "cus2rF0kOvKS",
        "outputId": "f734de84-1fb7-435c-dfbb-6dc77cd0d110"
      },
      "outputs": [
        {
          "output_type": "stream",
          "name": "stdout",
          "text": [
            "[]\n",
            "[23, '이게 리스트다', 3, 23, True]\n"
          ]
        }
      ],
      "source": [
        "# 첫 리스트 두근두근\n",
        "\n",
        "리스트 = []\n",
        "print(리스트)\n",
        "\n",
        "리스트 = [23, \"이게 리스트다\" , 3,23, True ]\n",
        "print(리스트)"
      ]
    }
  ]
}